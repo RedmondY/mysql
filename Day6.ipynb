{
 "cells": [
  {
   "cell_type": "markdown",
   "metadata": {},
   "source": [
    "项目十：行程和用户（难度：困难）\n",
    "Trips 表中存所有出租车的行程信息。每段行程有唯一键 Id，Client_Id 和 Driver_Id 是 Users 表中 Users_Id 的外键。Status 是枚举类型，枚举成员为 (‘completed’, ‘cancelled_by_driver’, ‘cancelled_by_client’)。\n",
    "+----+-----------+-----------+---------+--------------------+----------+\n",
    "| Id | Client_Id | Driver_Id | City_Id |        Status      |Request_at|\n",
    "+----+-----------+-----------+---------+--------------------+----------+\n",
    "| 1  |     1     |    10     |    1    |     completed      |2013-10-01|\n",
    "| 2  |     2     |    11     |    1    | cancelled_by_driver|2013-10-01|\n",
    "| 3  |     3     |    12     |    6    |     completed      |2013-10-01|\n",
    "| 4  |     4     |    13     |    6    | cancelled_by_client|2013-10-01|\n",
    "| 5  |     1     |    10     |    1    |     completed      |2013-10-02|\n",
    "| 6  |     2     |    11     |    6    |     completed      |2013-10-02|\n",
    "| 7  |     3     |    12     |    6    |     completed      |2013-10-02|\n",
    "| 8  |     2     |    12     |    12   |     completed      |2013-10-03|\n",
    "| 9  |     3     |    10     |    12   |     completed      |2013-10-03| \n",
    "| 10 |     4     |    13     |    12   | cancelled_by_driver|2013-10-03|\n",
    "+----+-----------+-----------+---------+--------------------+----------+\n",
    "Users 表存所有用户。每个用户有唯一键 Users_Id。Banned 表示这个用户是否被禁止，Role 则是一个表示（‘client’, ‘driver’, ‘partner’）的枚举类型。\n",
    "+----------+--------+--------+\n",
    "| Users_Id | Banned |  Role  |\n",
    "+----------+--------+--------+\n",
    "|    1     |   No   | client |\n",
    "|    2     |   Yes  | client |\n",
    "|    3     |   No   | client |\n",
    "|    4     |   No   | client |\n",
    "|    10    |   No   | driver |\n",
    "|    11    |   No   | driver |\n",
    "|    12    |   No   | driver |\n",
    "|    13    |   No   | driver |\n",
    "+----------+--------+--------+\n",
    "写一段 SQL 语句查出 2013年10月1日 至 2013年10月3日 期间非禁止用户的取消率。基于上表，你的 SQL 语句应返回如下结果，取消率（Cancellation Rate）保留两位小数。\n",
    "+------------+-------------------+\n",
    "|     Day    | Cancellation Rate |\n",
    "+------------+-------------------+\n",
    "| 2013-10-01 |       0.33        |\n",
    "| 2013-10-02 |       0.00        |\n",
    "| 2013-10-03 |       0.50        |\n",
    "+------------+-------------------+\n",
    "\n",
    "赠送创建表格代码，开不开心，见附件   :-)  开心😄\n"
   ]
  },
  {
   "cell_type": "code",
   "execution_count": null,
   "metadata": {},
   "outputs": [],
   "source": [
    "SELECT \n",
    "D.Name Department,\n",
    "E1.Name Name,\n",
    "Salary\n",
    "FROM employee E1\n",
    "INNER JOIN department D\n",
    "ON E1.DepartmentId = D.ID\n",
    "WHERE \n",
    "(SELECT COUNT(*)\n",
    " FROM employee E2 \n",
    "WHERE E1.Salary <= E2.Salary AND E1.DepartmentId = E2.DepartmentId)\n",
    " <= 3\n"
   ]
  },
  {
   "cell_type": "markdown",
   "metadata": {},
   "source": [
    "项目十一：各部门前3高工资的员工（难度：中等）\n",
    "\n",
    "将昨天employee表清空，重新插入以下数据（其实是多插入5,6两行）：\n",
    "+----+-------+--------+--------------+\n",
    "| Id | Name  | Salary | DepartmentId |\n",
    "+----+-------+--------+--------------+\n",
    "| 1  | Joe   | 70000  | 1            |\n",
    "| 2  | Henry | 80000  | 2            |\n",
    "| 3  | Sam   | 60000  | 2            |\n",
    "| 4  | Max   | 90000  | 1            |\n",
    "| 5  | Janet | 69000  | 1            |\n",
    "| 6  | Randy | 85000  | 1            |\n",
    "+----+-------+--------+--------------+\n",
    "编写一个 SQL 查询，找出每个部门工资前三高的员工。例如，根据上述给定的表格，查询结果应返回：\n",
    "+------------+----------+--------+\n",
    "| Department | Employee | Salary |\n",
    "+------------+----------+--------+\n",
    "| IT         | Max      | 90000  |\n",
    "| IT         | Randy    | 85000  |\n",
    "| IT         | Joe      | 70000  |\n",
    "| Sales      | Henry    | 80000  |\n",
    "| Sales      | Sam      | 60000  |\n",
    "+------------+----------+--------+\n",
    "\n",
    "此外，请考虑实现各部门前N高工资的员工功能。"
   ]
  },
  {
   "cell_type": "code",
   "execution_count": null,
   "metadata": {},
   "outputs": [],
   "source": [
    "SELECT d.Name AS Department, e1.Name AS Employee,e1.Salary AS Salary\n",
    "FROM employee e1\n",
    "JOIN department d\n",
    "ON e1.DepartmentId = d.id\n",
    "WHERE (\n",
    "SELECT COUNT(DISTINCT e2.Salary)\n",
    "FROM employee e2 \n",
    "WHERE e2.Salary > e1.Salary AND e1.DepartmentId = e2.DepartmentId\n",
    ") <3\n",
    "ORDER BY d.Name, e1.Salary desc;"
   ]
  },
  {
   "cell_type": "markdown",
   "metadata": {},
   "source": [
    "项目十二  分数排名 - （难度：中等）\n",
    "依然是昨天的分数表，实现排名功能，但是排名是非连续的，如下：\n",
    "+-------+------+\n",
    "| Score | Rank |\n",
    "+-------+------+\n",
    "| 4.00  | 1    |\n",
    "| 4.00  | 1    |\n",
    "| 3.85  | 3    |\n",
    "| 3.65  | 4    |\n",
    "| 3.65  | 4    |\n",
    "| 3.50  | 6    |\n",
    "+-------+------+"
   ]
  },
  {
   "cell_type": "code",
   "execution_count": null,
   "metadata": {},
   "outputs": [],
   "source": [
    "SELECT FORMAT(score,2) AS Score,\n",
    "(SELECT count(*) FROM Score AS s2 WHERE s2.score > s1.score)+1 AS 'Rank' \n",
    "FROM score AS s1\n",
    "ORDER BY score DESC;"
   ]
  }
 ],
 "metadata": {
  "kernelspec": {
   "display_name": "Python 3",
   "language": "python",
   "name": "python3"
  },
  "language_info": {
   "codemirror_mode": {
    "name": "ipython",
    "version": 3
   },
   "file_extension": ".py",
   "mimetype": "text/x-python",
   "name": "python",
   "nbconvert_exporter": "python",
   "pygments_lexer": "ipython3",
   "version": "3.6.6"
  }
 },
 "nbformat": 4,
 "nbformat_minor": 2
}
