{
 "cells": [
  {
   "cell_type": "markdown",
   "metadata": {},
   "source": [
    "1. 导入示例数据库，教程  MySQL导入示例数据库 -\t\tMySQL教程\n",
    "\n",
    "2. SQL是什么？MySQL是什么？\n",
    "\n",
    "3. 查询语句 SELECT FROM \n",
    "    语句解释\n",
    "    去重语句\n",
    "    前N个语句\n",
    "    CASE...END判断语句\n",
    "4. 筛选语句 WHERE \n",
    "    语句解释\n",
    "    运算符/通配符/操作符\n",
    "5. 分组语句 GROUP BY\n",
    "    聚集函数\n",
    "    语句解释\n",
    "    HAVING子句\n",
    "6. 排序语句 ORDER BY \n",
    "    语句解释\n",
    "    正序、逆序\n",
    "7. 函数\n",
    "    时间函数\n",
    "    数值函数\n",
    "    字符串函数\n",
    "8. SQL注释\n",
    "9. SQL代码规范\n",
    "    [SQL编程格式的优化建议]  SQL编程格式的优化建议 - 知乎​\n",
    "    [SQL Style Guide]  SQL style guide by Simon Holywell​\n",
    "\n"
   ]
  },
  {
   "cell_type": "markdown",
   "metadata": {},
   "source": [
    "#​作业​\n",
    "项目一：查找重复的电子邮箱（难度：简单）\n",
    "创建 email表，并插入如下三行数据\n",
    "+----+---------+\n",
    "| Id | Email   |\n",
    "+----+---------+\n",
    "| 1  | a@b.com |\n",
    "| 2  | c@d.com |\n",
    "| 3  | a@b.com |\n",
    "+----+---------+\n",
    "\n",
    "编写一个 SQL 查询，查找 email 表中所有重复的电子邮箱。\n",
    "根据以上输入，你的查询应返回以下结果：\n",
    "+---------+\n",
    "| Email   |\n",
    "+---------+\n",
    "| a@b.com |\n",
    "+---------+\n",
    "说明：所有电子邮箱都是小写字母。\n",
    "\n",
    "项目二：查找大国（难度：简单）\n",
    "创建如下 World 表\n",
    "+-----------------+------------+------------+--------------+---------------+\n",
    "| name            | continent  | area       | population   | gdp           |\n",
    "+-----------------+------------+------------+--------------+---------------+\n",
    "| Afghanistan     | Asia       | 652230     | 25500100     | 20343000      |\n",
    "| Albania         | Europe     | 28748      | 2831741      | 12960000      |\n",
    "| Algeria         | Africa     | 2381741    | 37100000     | 188681000     |\n",
    "| Andorra         | Europe     | 468        | 78115        | 3712000       |\n",
    "| Angola          | Africa     | 1246700    | 20609294     | 100990000     |\n",
    "+-----------------+------------+------------+--------------+---------------+\n",
    "如果一个国家的面积超过300万平方公里，或者(人口超过2500万并且gdp超过2000万)，那么这个国家就是大国家。\n",
    "编写一个SQL查询，输出表中所有大国家的名称、人口和面积。\n",
    "例如，根据上表，我们应该输出:\n",
    "+--------------+-------------+--------------+\n",
    "| name         | population  | area         |\n",
    "+--------------+-------------+--------------+\n",
    "| Afghanistan  | 25500100    | 652230       |\n",
    "| Algeria      | 37100000    | 2381741      |\n",
    "+--------------+-------------+--------------+"
   ]
  }
 ],
 "metadata": {
  "kernelspec": {
   "display_name": "Python 3",
   "language": "python",
   "name": "python3"
  },
  "language_info": {
   "codemirror_mode": {
    "name": "ipython",
    "version": 3
   },
   "file_extension": ".py",
   "mimetype": "text/x-python",
   "name": "python",
   "nbconvert_exporter": "python",
   "pygments_lexer": "ipython3",
   "version": "3.6.6"
  }
 },
 "nbformat": 4,
 "nbformat_minor": 2
}
