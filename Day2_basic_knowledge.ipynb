{
 "cells": [
  {
   "attachments": {},
   "cell_type": "markdown",
   "metadata": {},
   "source": [
    "1. 导入示例数据库，教程  MySQL导入示例数据库 -\t\tMySQL教程\n",
    "\n",
    "![avatar](pic/day2_1.png)  \n",
    "\n",
    "不用加''或 “”\n"
   ]
  },
  {
   "cell_type": "markdown",
   "metadata": {},
   "source": [
    "2. SQL是什么？MySQL是什么？  \n",
    "    SQL即结构化查询语言，是一种特殊的数据库查询和程序设计语言，对数据进行处理。\n",
    "    MySQL是一个关系型数据库管理系统。  "
   ]
  },
  {
   "cell_type": "markdown",
   "metadata": {},
   "source": [
    "3. 查询语句 SELECT FROM   \n",
    "    语句解释： SELECT *（表中需要查询的字段） from 表名  \n",
    "    去重语句： 去掉重复的值。分两种情况，\n",
    "    一、单表去重，那么最简单的就是调用系统函数distinct;  \n",
    "    二、多表去重，首先我们需要将不同表的相同字段进行合并，使用group by对它进行分组，而group by 必须放在order by和limit之间（order by 是用来排序的，limit 是用来限制输出的行）。    \n",
    "    前N个语句：用的limit,我们先对记录做排序，然后选择显示它的前N条记录。  \n",
    "    CASE...END判断语句：条件选择语句  "
   ]
  },
  {
   "attachments": {},
   "cell_type": "markdown",
   "metadata": {},
   "source": [
    "4. 筛选语句 WHERE   \n",
    "    语句解释:语句解释：数据库表一般包含大量的数据，很少需要检索表中的所有行。通常只会根据特定操作或报告的需要提取表数据的子集。只检索所需数据需要指定搜索条件（search criteria），搜索条件也称为过滤条件（filter condition）。在SELECT语句中，数据根据WHERE子句中指定的搜索条件进行过滤。    \n",
    "    通配符:  \n",
    "    1.百分号（%）：在搜索串中，%表示任何字符出现任意次数。特别注意，除了能匹配一个或多个字符外，%还能匹配 0个字符。%代表搜索模式中给定位置的 0个、1个或多个字符。但是WHERE prod_name LIKE '%'不会匹配产品名称为NULL的行。  \n",
    "    2.下划线（_）：下划线的用途与%一样，但它只匹配单个字符，而不是多个字符。  \n",
    "\n",
    "    操作符:  \n",
    "    ![avatar](pic/day2_2.png)"
   ]
  },
  {
   "attachments": {},
   "cell_type": "markdown",
   "metadata": {},
   "source": [
    "5. 分组语句 GROUP BY  \n",
    "    聚集函数  \n",
    "    ![avatar](pic/day2_3.png)  \n",
    "    语句解释  \n",
    "    HAVING子句:  \n",
    "    实际上就是对多表中的相同字段的一种去重方式，对某个字段进行分组。  \n",
    "    但是，我们如果需要在用group by 进行分组后的记录再进行筛选怎么办呢，这里可以使用having语句，对其分组后的数据再次筛选。  \n",
    "    注意：having语句必须与group by语句连用，而group by 语句后则不一定要跟having语句。  \n"
   ]
  },
  {
   "cell_type": "markdown",
   "metadata": {},
   "source": [
    "6. 排序语句 ORDER BY   \n",
    "    我们经常会用到对记录排序的场景，order by会根据需要排序的字段对其进行升序或降序的排列，desc表示降序，asc表示升序。"
   ]
  },
  {
   "cell_type": "markdown",
   "metadata": {},
   "source": [
    "7. 函数\n",
    "    时间函数\n",
    "    数值函数\n",
    "    字符串函数"
   ]
  },
  {
   "cell_type": "markdown",
   "metadata": {},
   "source": [
    "8. SQL注释\n",
    "    mysql语句注释一共有三种  \n",
    "       - 1.单行注释“#”  \n",
    "       - 2.单行注释“–【空格】”  \n",
    "       - 3.多行注释“/**/”  "
   ]
  },
  {
   "cell_type": "markdown",
   "metadata": {},
   "source": [
    "9. SQL代码规范\n",
    "    [SQL编程格式的优化建议]  SQL编程格式的优化建议 - 知乎​\n",
    "    [SQL Style Guide]  SQL style guide by Simon Holywell​"
   ]
  },
  {
   "cell_type": "markdown",
   "metadata": {},
   "source": [
    "#​作业​  \n",
    "项目一：查找重复的电子邮箱（难度：简单）  \n",
    "创建 email表，并插入如下三行数据  \n",
    "+----+---------+  \n",
    "| Id | Email   |  \n",
    "+----+---------+  \n",
    "| 1  | a@b.com |  \n",
    "| 2  | c@d.com |  \n",
    "| 3  | a@b.com |  \n",
    "+----+---------+  \n",
    "\n",
    "编写一个 SQL 查询，查找 email 表中所有重复的电子邮箱。  \n",
    "根据以上输入，你的查询应返回以下结果：   \n",
    "+---------+\n",
    "| Email   |  \n",
    "+---------+\n",
    "| a@b.com |  \n",
    "+---------+\n",
    "说明：所有电子邮箱都是小写字母。  "
   ]
  },
  {
   "attachments": {},
   "cell_type": "markdown",
   "metadata": {},
   "source": [
    "![avatar](pic/day2_4.png)"
   ]
  },
  {
   "cell_type": "markdown",
   "metadata": {},
   "source": [
    "项目二：查找大国（难度：简单）  \n",
    "创建如下 World 表  \n",
    "+-----------------+------------+------------+--------------+---------------+  \n",
    "| name            | continent  | area       | population   | gdp             |  \n",
    "+-----------------+------------+------------+--------------+---------------+  \n",
    "| Afghanistan     | Asia       | 652230     | 25500100     | 20343000        |  \n",
    "| Albania         | Europe     | 28748      | 2831741      | 12960000        |  \n",
    "| Algeria         | Africa     | 2381741    | 37100000     | 188681000       |  \n",
    "| Andorra         | Europe     | 468        | 78115        | 3712000       |  \n",
    "| Angola          | Africa     | 1246700    | 20609294     | 100990000     |  \n",
    "+-----------------+------------+------------+--------------+---------------+  \n",
    "如果一个国家的面积超过300万平方公里，或者(人口超过2500万并且gdp超过2000万)，那么这个国家就是大国家。  \n",
    "编写一个SQL查询，输出表中所有大国家的名称、人口和面积。  \n",
    "例如，根据上表，我们应该输出:  \n",
    "+--------------+-------------+--------------+  \n",
    "| name         | population  | area         |  \n",
    "+--------------+-------------+--------------+  \n",
    "| Afghanistan  | 25500100    | 652230       |  \n",
    "| Algeria      | 37100000    | 2381741      |  \n",
    "+--------------+-------------+--------------+  "
   ]
  },
  {
   "cell_type": "markdown",
   "metadata": {},
   "source": [
    "![avatar](pic/day2_5.png)"
   ]
  }
 ],
 "metadata": {
  "kernelspec": {
   "display_name": "Python 3",
   "language": "python",
   "name": "python3"
  },
  "language_info": {
   "codemirror_mode": {
    "name": "ipython",
    "version": 3
   },
   "file_extension": ".py",
   "mimetype": "text/x-python",
   "name": "python",
   "nbconvert_exporter": "python",
   "pygments_lexer": "ipython3",
   "version": "3.6.6"
  }
 },
 "nbformat": 4,
 "nbformat_minor": 2
}
