{
 "cells": [
  {
   "cell_type": "markdown",
   "metadata": {},
   "source": [
    "## 学习内容\n",
    "####  MySQL别名\n",
    "####  内联结\n",
    "####  外联结\n",
    "####  自联结\n",
    "####  UNION\n",
    "####  以上几种方式的区别和联系"
   ]
  },
  {
   "cell_type": "markdown",
   "metadata": {},
   "source": [
    "###  MySQL别名\n",
    "  \n",
    "SELECT vend_name, prod_name, prod_price\n",
    "FROM Vendors, Products\n",
    "WHERE Vendors.vend_id = Products.vend_id;"
   ]
  },
  {
   "cell_type": "markdown",
   "metadata": {},
   "source": [
    "### 内联结\n",
    "  \n",
    "SELECT vend_name, prod_name, prod_price   \n",
    "FROM Vendors INNER JOIN Products   \n",
    "ON Vendors.vend_id = Products.vend_id;   "
   ]
  },
  {
   "cell_type": "markdown",
   "metadata": {},
   "source": [
    "###  外联结\n",
    "    \n",
    "SELECT c.cust_id, o.order_num  \n",
    "FROM Customers AS c LEFT OUTER JOIN Orders AS o  \n",
    "ON c.cust_id = o.cust_id;  "
   ]
  },
  {
   "cell_type": "markdown",
   "metadata": {},
   "source": [
    "###  自联结\n",
    "  \n",
    "SELECT C.*, O.order_num, O.order_date,\n",
    "OI.prod_id, OI.quantity, OI.item_price\n",
    "FROM Customers AS C, Orders AS O, OrderItems AS OI\n",
    "WHERE C.cust_id = O.cust_id\n",
    "AND O.order_num = OI.order_num\n",
    "AND prod_id = ‘RGAN01’;"
   ]
  },
  {
   "cell_type": "markdown",
   "metadata": {},
   "source": [
    "###  UNION\n",
    "  \n",
    "SELECT cust_name, cust_contact, cust_email\n",
    "FROM Customers\n",
    "WHERE cust_name = 'Fun4All'\n",
    "UNION\n",
    "SELECT cust_name, cust_contact, cust_email\n",
    "FROM Customers\n",
    "WHERE cust_state IN ('IL', 'IN', 'MI');"
   ]
  },
  {
   "cell_type": "markdown",
   "metadata": {},
   "source": [
    "###  以上几种方式的区别和联系  \n",
    "交叉联结（CROSS JOIN 又称笛卡尔积 ）：两表关联，把左表的列和右表的列通过笛卡尔积的形式表达出来。实际上是把两个表乘起来。  \n",
    "左连接（LEFT JOIN是LEFT OUTER JOIN的简写，LEFT JOIN默认是outer属性的）：两表关联，左表全部保留，右表关联不上用null表示。是从from子句的左边表中选择所有行  \n",
    "右连接（RIGHT JOIN是RIGHT OUTER JOIN的简写）：右表全部保留，左表关联不上的用null表示。是从from子句的右边表中选择所有行。  \n",
    "内连接（inner join）：两表关联，保留两表中交集的记录。  \n",
    "自联结：本质是把一张表当成两张表来使用。MySQL有时在信息查询时需要进行对自身联结（自联结），所以我们需要为表定义别名  \n",
    "UNION：MySQL UNION 操作符用于连接两个以上的 SELECT 语句的结果组合到一个结果集合中。多个 SELECT 语句会删除重复的数据。  "
   ]
  },
  {
   "cell_type": "markdown",
   "metadata": {},
   "source": [
    "项目五：组合两张表 （难度：简单）  \n",
    "在数据库中创建表1和表2，并各插入三行数据（自己造）  \n",
    "表1: Person  \n",
    "+-------------+---------+  \n",
    "| 列名         | 类型     |  \n",
    "+-------------+---------+  \n",
    "| PersonId    | int     |  \n",
    "| FirstName   | varchar |  \n",
    "| LastName    | varchar |  \n",
    "+-------------+---------+  \n",
    "PersonId 是上表主键  \n",
    "  \n",
    "表2: Address    \n",
    "+-------------+---------+  \n",
    "| 列名         | 类型    |  \n",
    "+-------------+---------+  \n",
    "| AddressId   | int     |  \n",
    "| PersonId    | int     |  \n",
    "| City        | varchar |  \n",
    "| State       | varchar |  \n",
    "+-------------+---------+  \n",
    "AddressId 是上表主键  \n",
    "  \n",
    "编写一个 SQL 查询，满足条件：无论 person 是否有地址信息，都需要基于上述两表提供 person 的以下信息：FirstName, LastName, City, State  \n",
    "\n",
    "  \n",
    "----组合两张表  \n",
    "CREATE TABLE Person    \n",
    "(  \n",
    "PersonId INT PRIMARY KEY NOT NULL,  \n",
    "FirstName VARCHAR(20) NOT NULL,  \n",
    "LastName VARCHAR(20) NOT NULL  \n",
    ");  \n",
    "\n",
    "----插入数据  \n",
    "INSERT INTO Person VALUES(1, 'rui', 'cun');  \n",
    "INSERT INTO Person VALUES(2, 'zhang', 'cun');  \n",
    "INSERT INTO Person VALUES(3, 'wang', 'cun');  \n",
    "  \n",
    "CREATE TABLE Address  \n",
    "(  \n",
    "PersonId INT PRIMARY KEY NOT NULL,  \n",
    "AddressId INT NOT NULL,  \n",
    "City VARCHAR(20) NOT NULL,  \n",
    "State VARCHAR(20) NOT NULL  \n",
    "\n",
    "----插入数据  \n",
    "INSERT INTO Address VALUES(1, 1002, 'shanghai', 'China');  \n",
    "INSERT INTO Address VALUES(2, 1003, 'beijing', 'China');  \n",
    "INSERT INTO Address VALUES(3, 1004, 'New York', 'America');  \n",
    "\n",
    "----进行查询  \n",
    "SELECT FirstName, LastName, City, State  \n",
    "FROM Person, Address  \n",
    "WHERE Person.PersonId = Address.PersonId;  "
   ]
  },
  {
   "cell_type": "markdown",
   "metadata": {},
   "source": [
    "项目六：删除重复的邮箱（难度：简单）  \n",
    "编写一个 SQL 查询，来删除 email 表中所有重复的电子邮箱，重复的邮箱里只保留 Id 最小 的那个。  \n",
    "+----+---------+  \n",
    "| Id | Email   |  \n",
    "+----+---------+  \n",
    "| 1  | a@b.com |  \n",
    "| 2  | c@d.com |  \n",
    "| 3  | a@b.com |  \n",
    "+----+---------+  \n",
    "Id 是这个表的主键。  \n",
    "例如，在运行你的查询语句之后，上面的 Email表应返回以下几行:  \n",
    "+----+------------------+  \n",
    "| Id | Email            |  \n",
    "+----+------------------+  \n",
    "| 1  | a@b.com |  \n",
    "| 2  | c@d.com  |  \n",
    "\n",
    "----建表  \n",
    "CREATE TABLE email  \n",
    "(  \n",
    "Id INT PRIMARY KEY NOT NULL,  \n",
    "Email VARCHAR(20) NOT NULL  \n",
    ");  \n",
    "\n",
    "----插入数据  \n",
    "INSERT INTO email VALUES(1, 'a@b.com');  \n",
    "INSERT INTO email VALUES(2, 'c@d.com');  \n",
    "INSERT INTO email VALUES(3, 'a@b.com');  \n",
    "\n",
    "----查询  \n",
    "DELETE e1   \n",
    "FROM email e1, email e2  \n",
    "WHERE e1.Email = e2.Email  \n",
    "AND e1.Id > e2.Id;  "
   ]
  }
 ],
 "metadata": {
  "kernelspec": {
   "display_name": "Python 3",
   "language": "python",
   "name": "python3"
  },
  "language_info": {
   "codemirror_mode": {
    "name": "ipython",
    "version": 3
   },
   "file_extension": ".py",
   "mimetype": "text/x-python",
   "name": "python",
   "nbconvert_exporter": "python",
   "pygments_lexer": "ipython3",
   "version": "3.6.6"
  }
 },
 "nbformat": 4,
 "nbformat_minor": 2
}
