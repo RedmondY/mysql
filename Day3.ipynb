{
 "cells": [
  {
   "cell_type": "markdown",
   "metadata": {},
   "source": [
    "# MySQL 表数据类型"
   ]
  },
  {
   "cell_type": "markdown",
   "metadata": {},
   "source": [
    "![avatar](pic/day3_1.png) "
   ]
  },
  {
   "cell_type": "markdown",
   "metadata": {},
   "source": [
    "# SQL 创建表"
   ]
  },
  {
   "cell_type": "markdown",
   "metadata": {},
   "source": [
    "### 创建表  \n",
    "  \n",
    "CREATE TABLE customers  \n",
    "(  \n",
    "  cust_id      int       NOT NULL AUTO_INCREMENT,  \n",
    "  cust_name    char(50)  NOT NULL ,  \n",
    "  cust_address char(50)  NULL ,  \n",
    "  cust_city    char(50)  NULL ,  \n",
    "  cust_state   char(5)   NULL ,  \n",
    "  cust_zip     char(10)  NULL ,  \n",
    "  cust_country char(50)  NULL ,  \n",
    "  cust_contact char(50)  NULL ,  \n",
    "  cust_email   char(255) NULL ,  \n",
    "  PRIMARY KEY (cust_id)  \n",
    ") ENGINE=InnoDB;  \n",
    "\n",
    "CREATE TABLE orderitems  \n",
    "(  \n",
    "  order_num  int          NOT NULL ,  \n",
    "  order_item int          NOT NULL ,  \n",
    "  prod_id    char(10)     NOT NULL ,  \n",
    "  quantity   int          NOT NULL  default 1,  \n",
    "  item_price decimal(8,2) NOT NULL ,  \n",
    "  PRIMARY KEY (order_num, order_item)  \n",
    ") ENGINE=InnoDB;  \n",
    "\n",
    "\n",
    "主键的值必须唯一   \n",
    "设定主键-- 在设定主键的字段后面输入 primary key  \n",
    "设定列类型 、大小、约束  "
   ]
  },
  {
   "cell_type": "markdown",
   "metadata": {},
   "source": [
    "### 添加多行数据 \n",
    "\n",
    "insert into customers(cust_id,cust_name,cust_address,cust_city,cust_state,cust_zip,cust_country,cust_contact,cuat_email)  \n",
    "  \n",
    "values(null,'Pep E. LaPew','100 Main Street','Los Angeles','CA','90046','USA',null,null)，  \n",
    "  \n",
    "(null,'M.Martian','42 Galaxy Way','New York','NY','11213','USA',null,null);  \n",
    "  \n",
    "多行单行只要更改插入数据的数量就行  "
   ]
  },
  {
   "cell_type": "markdown",
   "metadata": {},
   "source": [
    "### 插入别的表的数据\n",
    "\n",
    "insert into customers(cust_id,cust_name,cust_address,cust_city,cust_state,cust_zip,cust_country,cust_contact,cuat_email)  \n",
    "\n",
    "select cust_id,cust_name,cust_address,cust_city,cust_state,cust_zip,cust_country,cust_contact,cuat_email from custnew;   \n",
    "\n",
    "INSERT INTO ProductType (product_type, sum_sale_price, sum_purchase_price)   \n",
    " \n",
    "SELECT product_type, SUM(sale_price), SUM(purchase_price)    \n",
    " \n",
    "FROM Product GROUP BY product_type;  "
   ]
  },
  {
   "cell_type": "markdown",
   "metadata": {},
   "source": [
    "### 用SQL语句删除表\n",
    "\n",
    "![avatar](pic/day3_2.png) "
   ]
  },
  {
   "cell_type": "markdown",
   "metadata": {},
   "source": [
    "## 作业  \n",
    "\n",
    "项目三：超过5名学生的课（难度：简单）  \n",
    "创建如下所示的courses 表 ，有: student (学生) 和 class (课程)。  \n",
    "例如,表:  \n",
    "±--------±-----------+  \n",
    "| student | class |  \n",
    "±--------±-----------+  \n",
    "| A | Math |  \n",
    "| B | English |  \n",
    "| C | Math |  \n",
    "| D | Biology |  \n",
    "| E | Math |   \n",
    "| F | Computer |  \n",
    "| G | Math |  \n",
    "| H | Math |  \n",
    "| I | Math |  \n",
    "| A | Math |  \n"
   ]
  },
  {
   "cell_type": "markdown",
   "metadata": {},
   "source": [
    "CREATE TABLE course   \n",
    "(  \n",
    "student VARCHAR(50) NOT NULL,  \n",
    "class   VARCHAR(50) NOT NULL  \n",
    ");  \n",
    " \n",
    "INSERT INTO course(student,class) VALUES ('A','Math');  \n",
    "INSERT INTO course(student,class) VALUES ('B','English');  \n",
    "INSERT INTO course(student,class) VALUES ('C','Math');  \n",
    "INSERT INTO course(student,class) VALUES ('D','Biology');  \n",
    "INSERT INTO course(student,class) VALUES ('E','Math');  \n",
    "INSERT INTO course(student,class) VALUES ('F','Computer');  \n",
    "INSERT INTO course(student,class) VALUES ('G','Math');  \n",
    "INSERT INTO course(student,class) VALUES ('H','Math');  \n",
    "INSERT INTO course(student,class) VALUES ('I','Math');  \n",
    "INSERT INTO course(student,class) VALUES ('A','Math');  \n",
    "   \n",
    "select class from course group by class having count(distinct student) >=5;  \n"
   ]
  },
  {
   "cell_type": "markdown",
   "metadata": {},
   "source": [
    "项目四：交换工资（难度：简单）  \n",
    "创建一个 salary表，如下所示，有m=男性 和 f=女性的值 。  \n",
    "例如:  \n",
    "| id | name | sex | salary |  \n",
    "|----|------|-----|--------|   \n",
    "| 1  | A    | m   | 2500   |  \n",
    "| 2  | B    | f   | 1500   |  \n",
    "| 3  | C    | m   | 5500   |  \n",
    "| 4  | D    | f   | 500    |  \n",
    "\n",
    "交换所有的 f 和 m 值(例如，将所有 f 值更改为 m，反之亦然)。要求使用一个更新查询，并且没有中间临时表。  \n",
    "运行你所编写的查询语句之后，将会得到以下表:  \n",
    "| id | name | sex | salary |  \n",
    "|----|------|-----|--------|  \n",
    "| 1  | A    | f   | 2500   |  \n",
    "| 2  | B    | m   | 1500   |  \n",
    "| 3  | C    | f   | 5500   |  \n",
    "| 4  | D    | m   | 500    |  "
   ]
  },
  {
   "cell_type": "markdown",
   "metadata": {},
   "source": [
    "CREATE TABLE salary (  \n",
    "\tid INT UNSIGNED AUTO_INCREMENT,   \n",
    "\tname VARCHAR(100) NOT NULL,  \n",
    "\tsex VARCHAR(100) NOT NULL,  \n",
    "\tsalary INT UNSIGNED NOT NULL,  \n",
    "\tPRIMARY KEY (id)  \n",
    ");  \n",
    "\n",
    "INSERT INTO salary   \n",
    "(name, sex, salary)  \n",
    "VALUES  \n",
    "('A', 'm', 2500),  \n",
    "('B', 'f', 1500),  \n",
    "('C', 'm', 5500),  \n",
    "('D', 'f', 500);  \n",
    "\n",
    "UPDATE salary SET sex = 'f' WHERE sex = 'm';  \n",
    "UPDATE salary SET sex = 'm' WHERE sex = 'f';  \n",
    "\n",
    "UPDATE salary  \n",
    "\tSET sex =   \n",
    "CASE WHEN sex = 'f'  \n",
    "\tTHEN sex = 'm'  \n",
    "\tELSE sex = 'f'  \n",
    "\tEND;  \n",
    "\n",
    "UPDATE salary  \n",
    "SET sex = REPLACE('m',sex,'f')  "
   ]
  }
 ],
 "metadata": {
  "kernelspec": {
   "display_name": "Python 3",
   "language": "python",
   "name": "python3"
  },
  "language_info": {
   "codemirror_mode": {
    "name": "ipython",
    "version": 3
   },
   "file_extension": ".py",
   "mimetype": "text/x-python",
   "name": "python",
   "nbconvert_exporter": "python",
   "pygments_lexer": "ipython3",
   "version": "3.6.6"
  }
 },
 "nbformat": 4,
 "nbformat_minor": 2
}
